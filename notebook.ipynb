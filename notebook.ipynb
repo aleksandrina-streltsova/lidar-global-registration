{
 "cells": [
  {
   "cell_type": "code",
   "execution_count": null,
   "id": "4340e3f8",
   "metadata": {},
   "outputs": [],
   "source": [
    "import pandas as pd\n",
    "import numpy as np\n",
    "import scipy.stats as ss\n",
    "import matplotlib.pyplot as plt\n",
    "from pyntcloud import PyntCloud\n",
    "from tqdm import tqdm\n",
    "\n",
    "plt.rcParams[\"figure.figsize\"] = (8, 6)"
   ]
  },
  {
   "cell_type": "code",
   "execution_count": null,
   "id": "b348a5ea",
   "metadata": {},
   "outputs": [],
   "source": [
    "def show_bar_plots(hists: np.ndarray):\n",
    "    n, m = hists.shape\n",
    "    x = np.arange(m)\n",
    "    f, ax = plt.subplots(figsize=(16, 4))\n",
    "    for i, y in enumerate(hists):\n",
    "        width = 1 / n\n",
    "        shift = (i + 0.5) * width - 0.5\n",
    "        plt.bar(x + shift, y, width=width, align='center')\n",
    "    plt.show()"
   ]
  },
  {
   "cell_type": "code",
   "execution_count": null,
   "id": "dd7b1c76",
   "metadata": {},
   "outputs": [],
   "source": [
    "def show_distances(path, thr=1.5, k=0):\n",
    "    df = pd.read_csv(path)\n",
    "    dists = np.sort(df.values.flatten())[-k:]\n",
    "    print('Number of good correspondences:', np.count_nonzero(dists < thr))\n",
    "    plt.fill_between(np.arange(len(dists)), np.zeros_like(dists), dists, facecolor='blue', alpha=0.5)\n",
    "    plt.hlines(thr, 0, len(dists) - 1, color='r')\n",
    "    plt.show()"
   ]
  },
  {
   "cell_type": "code",
   "execution_count": null,
   "id": "6367c04b",
   "metadata": {},
   "outputs": [],
   "source": [
    "def show_uniquenesses(path, a_max=300):\n",
    "    df = pd.read_csv(path)\n",
    "    dists = df.values.flatten()\n",
    "    dists = np.clip(np.sort(dists), a_min=0, a_max=a_max)\n",
    "    plt.hist(dists, bins='fd')\n",
    "    plt.show()"
   ]
  },
  {
   "cell_type": "code",
   "execution_count": null,
   "id": "8324770e",
   "metadata": {},
   "outputs": [],
   "source": [
    "show_uniquenesses('data/debug/KilwaKisiwani_40r_KilwaKisiwani_43r_uniquenesses_src_random_01.csv')"
   ]
  },
  {
   "cell_type": "code",
   "execution_count": null,
   "id": "90bb812e",
   "metadata": {},
   "outputs": [],
   "source": [
    "show_uniquenesses('data/debug/Hokuyo_4_Hokuyo_8_uniquenesses_src_random_01.csv')"
   ]
  },
  {
   "cell_type": "code",
   "execution_count": null,
   "id": "e129caf9",
   "metadata": {},
   "outputs": [],
   "source": [
    "show_uniquenesses('data/debug/bun000_bun045_uniquenesses_src_random_01.csv')"
   ]
  },
  {
   "cell_type": "code",
   "execution_count": null,
   "id": "a69d00e3",
   "metadata": {},
   "outputs": [],
   "source": [
    "def display_colored(df, columns=[]):\n",
    "    display(df.style.background_gradient(subset=['pcc'] + columns))"
   ]
  },
  {
   "cell_type": "code",
   "execution_count": null,
   "id": "b0fb0d66",
   "metadata": {},
   "outputs": [],
   "source": [
    "columns=['descriptor','testname','rmse','r_err','t_err','pcd_err','voxel_size','normal_radius_coef','feature_radius_coef','pcc', 'correct_correspondences', 'correspondences', 'inliers', 'correct_inliers','filter','threshold','n_random']"
   ]
  },
  {
   "cell_type": "code",
   "execution_count": null,
   "id": "6a349c3c",
   "metadata": {},
   "outputs": [],
   "source": [
    "df = pd.read_csv('data/debug/test_results.csv')\n",
    "df['pcc'] = df['correct_correspondences'] / df['correspondences']\n",
    "df = df[['testname','pcc', 'correct_correspondences','threshold']]\n",
    "display_colored(df)"
   ]
  },
  {
   "cell_type": "code",
   "execution_count": null,
   "id": "9eac4ad1",
   "metadata": {},
   "outputs": [],
   "source": [
    "df = pd.read_csv('data/debug/test_results.csv')\n",
    "df['pcc'] = df['correct_correspondences'] / df['correspondences']\n",
    "df = df[df['filter'] == 'random']\n",
    "df = df[['testname','pcc', 'correct_correspondences','threshold']]\n",
    "display_colored(df)"
   ]
  },
  {
   "cell_type": "markdown",
   "id": "4eeabd27",
   "metadata": {},
   "source": [
    "### FPFH"
   ]
  },
  {
   "cell_type": "code",
   "execution_count": null,
   "id": "e16a6b7a",
   "metadata": {},
   "outputs": [],
   "source": [
    "df = pd.read_csv('data/debug/fpfh_results_02.csv')\n",
    "df['pcc'] = df['correct_correspondences'] / df['correspondences']\n",
    "df_bun = df[df['testname'] == \"bun000_bun045\"][columns]\n",
    "df_hokuyo = df[df['testname'] == 'Hokuyo_4_Hokuyo_8'][columns]"
   ]
  },
  {
   "cell_type": "code",
   "execution_count": null,
   "id": "06f1a032",
   "metadata": {},
   "outputs": [],
   "source": [
    "display_colored(df_bun.sort_values('pcd_err'))"
   ]
  },
  {
   "cell_type": "code",
   "execution_count": null,
   "id": "38264ddf",
   "metadata": {},
   "outputs": [],
   "source": [
    "display_colored(df_hokuyo.sort_values('pcd_err'))"
   ]
  },
  {
   "cell_type": "markdown",
   "id": "34afccba",
   "metadata": {},
   "source": [
    "### SHOT"
   ]
  },
  {
   "cell_type": "code",
   "execution_count": null,
   "id": "697ad70b",
   "metadata": {},
   "outputs": [],
   "source": [
    "df = pd.read_csv('data/debug/shot_results_02.csv')\n",
    "df['pcc'] = df['correct_correspondences'] / df['correspondences']\n",
    "df_bun = df[df['testname'] == \"bun000_bun045\"][columns]\n",
    "df_hokuyo = df[df['testname'] == 'Hokuyo_4_Hokuyo_8'][columns]"
   ]
  },
  {
   "cell_type": "code",
   "execution_count": null,
   "id": "11874bc4",
   "metadata": {},
   "outputs": [],
   "source": [
    "display_colored(df_bun.sort_values('pcd_err'))"
   ]
  },
  {
   "cell_type": "code",
   "execution_count": null,
   "id": "07f937f7",
   "metadata": {},
   "outputs": [],
   "source": [
    "display_colored(df_hokuyo.sort_values('pcd_err'))"
   ]
  },
  {
   "cell_type": "code",
   "execution_count": null,
   "id": "68fb0245",
   "metadata": {},
   "outputs": [],
   "source": [
    "df = pd.read_csv('data/debug/test_results.csv')\n",
    "df['pcc'] = df['correct_correspondences'] / df['correspondences']\n",
    "df_chair = df[df['testname'] == 'kig_023_22_chair_kig_022_21_chair'][columns]\n",
    "display_colored(df_chair)"
   ]
  },
  {
   "cell_type": "code",
   "execution_count": null,
   "id": "888d2714",
   "metadata": {},
   "outputs": [],
   "source": [
    "def analyze_features(path_src, path_tgt):\n",
    "    features_src = pd.read_csv(path_src)\n",
    "    features_tgt = pd.read_csv(path_tgt)\n",
    "    features_diff = features_src - features_tgt\n",
    "    f1_diff = features_diff['f1']\n",
    "    f2_diff = features_diff['f2']\n",
    "    f3_diff = features_diff['f3']\n",
    "    f4_diff = features_diff['f4']\n",
    "\n",
    "    fs1 = f1_diff.values\n",
    "    f1_std = np.std(fs1)\n",
    "    print(f'f1: {np.count_nonzero(fs1 > f1_std) / len(fs1)}')\n",
    "\n",
    "    fs2 = f2_diff.values\n",
    "    f2_std = np.std(fs2)\n",
    "    print(f'f2: {np.count_nonzero(fs2 > f2_std) / len(fs2)}')\n",
    "\n",
    "    fs3 = f3_diff.values\n",
    "    f3_std = np.std(fs3)\n",
    "    print(f'f3: {np.count_nonzero(fs3 > f3_std) / len(fs3)}')\n",
    "\n",
    "    plt.hist(f1_diff, bins='rice')\n",
    "    plt.show()\n",
    "\n",
    "    plt.hist(f2_diff, bins='rice')\n",
    "    plt.show()\n",
    "\n",
    "    plt.hist(f3_diff, bins='rice')\n",
    "    plt.show()"
   ]
  },
  {
   "cell_type": "code",
   "execution_count": null,
   "id": "ad764ed5",
   "metadata": {},
   "outputs": [],
   "source": [
    "# 5994 - левый угол\n",
    "# 245 - верх спинки\n",
    "# 1565 - середина спинки\n",
    "# 5545 - нижний угол\n",
    "\n",
    "point_ids = pd.read_csv('data/debug/kig_023_22_chair_kig_022_21_chair_ids_02.csv')\n",
    "point_ids.set_index('id_src', drop=False, inplace=True)\n",
    "point_ids_src = point_ids['id_src'].values\n",
    "point_ids_tgt = point_ids['id_tgt'].values\n",
    "ids_src = np.array([5994, 245, 1565, 5545])\n",
    "ids_tgt = np.array([point_ids[point_ids['id_src'] == id_src]['id_tgt'].values[0] for id_src in ids_src])\n",
    "display(point_ids.loc[ids_src])"
   ]
  },
  {
   "cell_type": "code",
   "execution_count": null,
   "id": "83b46d78",
   "metadata": {},
   "outputs": [],
   "source": [
    "def min_confusion_matrix(hists1, hists2):\n",
    "    xx, yy = np.meshgrid(np.arange(len(hists1)), np.arange(len(hists2)))\n",
    "    return np.stack((hists1[xx], hists2[yy]), axis=3).min(axis=3).sum(axis=2)\n",
    "\n",
    "def l2_confusion_matrix(hists1, hists2):\n",
    "    xx, yy = np.meshgrid(np.arange(len(hists1)), np.arange(len(hists2)))\n",
    "    return np.sqrt(((hists1[xx] - hists2[yy]) ** 2).sum(axis=2))\n",
    "    \n",
    "def cosine_confusion_matrix(hists1, hists2):\n",
    "    xx, yy = np.meshgrid(np.arange(len(hists1)), np.arange(len(hists2)))\n",
    "    return np.sqrt((hists1[xx] * hists2[yy]).sum(axis=2))\n",
    "    \n",
    "def show_confusion_matrix(confusion_matrix, labels1=None, labels2=None, vmin=None, vmax=None):\n",
    "    res = plt.imshow(confusion_matrix, cmap=plt.cm.jet, vmin=vmin, vmax=vmax, interpolation='nearest')\n",
    "    plt.colorbar(res)\n",
    "   \n",
    "    if labels1 is not None: \n",
    "        plt.tick_params(labelbottom=False,labeltop=True)\n",
    "        plt.xticks(range(len(labels1)), labels1, rotation='vertical')\n",
    "    if labels2 is not None:\n",
    "        plt.yticks(range(len(labels2)), labels2)\n",
    "    plt.show()"
   ]
  },
  {
   "cell_type": "code",
   "execution_count": null,
   "id": "c9a8b11a",
   "metadata": {},
   "outputs": [],
   "source": [
    "def skip_zeros(hist1, hist2):\n",
    "    mask = ~np.logical_and(hist1 == 0, hist2 == 0)\n",
    "    return hist1[mask], hist2[mask]\n",
    "\n",
    "def analyze_descriptors(path_src, path_tgt, ids_src, ids_tgt, descriptor_size, confusion_matrix_fn, vmin=None, vmax=None):\n",
    "    hists_src = pd.read_csv(path_src, header=None, usecols=np.arange(descriptor_size).tolist())\n",
    "    hists_tgt = pd.read_csv(path_tgt, header=None, usecols=np.arange(descriptor_size).tolist())\n",
    "    for id_src, id_tgt in zip(ids_src, ids_tgt):\n",
    "        show_bar_plots(np.vstack(skip_zeros(hists_src.iloc[id_src].values, hists_tgt.iloc[id_tgt].values)))\n",
    "   \n",
    "    show_confusion_matrix(confusion_matrix_fn(hists_src.iloc[ids_src].values, hists_tgt.iloc[ids_tgt].values),\n",
    "                          ['left upper', 'upper', 'center', 'left bottom'],\n",
    "                          ['left upper', 'upper', 'center', 'left bottom'],\n",
    "                          vmin=vmin, vmax=vmax) \n",
    "    show_confusion_matrix(confusion_matrix_fn(hists_src.iloc[ids_src].values, hists_src.iloc[ids_src].values),\n",
    "                          ['left upper', 'upper', 'center', 'left bottom'],\n",
    "                          ['left upper', 'upper', 'center', 'left bottom'],\n",
    "                          vmin=vmin, vmax=vmax) \n",
    "    show_confusion_matrix(confusion_matrix_fn(hists_tgt.iloc[ids_tgt].values, hists_tgt.iloc[ids_tgt].values),\n",
    "                          ['left upper', 'upper', 'center', 'left bottom'],\n",
    "                          ['left upper', 'upper', 'center', 'left bottom'],\n",
    "                          vmin=vmin, vmax=vmax) "
   ]
  },
  {
   "cell_type": "code",
   "execution_count": null,
   "id": "0ec2984e",
   "metadata": {},
   "outputs": [],
   "source": [
    "analyze_descriptors(\"data/debug/kig_023_22_chair_kig_022_21_chair_histograms_src_02_shot.csv\",\n",
    "                    \"data/debug/kig_023_22_chair_kig_022_21_chair_histograms_tgt_02_shot.csv\",\n",
    "                    ids_src, ids_tgt,\n",
    "                    descriptor_size=352,\n",
    "                    confusion_matrix_fn=cosine_confusion_matrix)"
   ]
  },
  {
   "cell_type": "code",
   "execution_count": null,
   "id": "a3746551",
   "metadata": {},
   "outputs": [],
   "source": [
    "analyze_descriptors(\"data/debug/kig_023_22_chair_kig_022_21_chair_histograms_src_02.csv\",\n",
    "                    \"data/debug/kig_023_22_chair_kig_022_21_chair_histograms_tgt_02.csv\",\n",
    "                    ids_src, ids_tgt,\n",
    "                    descriptor_size=33,\n",
    "                    confusion_matrix_fn=min_confusion_matrix)"
   ]
  },
  {
   "cell_type": "code",
   "execution_count": null,
   "id": "ad1c1fe8",
   "metadata": {},
   "outputs": [],
   "source": [
    "df_overlapping  = pd.read_csv('data/kizhi/downsampled/overlapping.csv', index_col='reading')\n",
    "show_confusion_matrix(df_overlapping.values, df.columns, df.columns, vmin=0.0, vmax=1.0)"
   ]
  },
  {
   "cell_type": "code",
   "execution_count": null,
   "id": "f0e24d51",
   "metadata": {},
   "outputs": [],
   "source": [
    "df = pd.read_csv('test_results.csv')\n",
    "df = df.fillna('')\n",
    "df['pcc'] = df['correct_correspondences'] / df['correspondences']\n",
    "df['overlapping'] = [df_overlapping.loc[testname[:testname.rfind('kig') - 1] + '.ply'][testname[testname.rfind('kig'):] + '.ply'] for testname in df['testname']]\n",
    "df = df[df['overlapping'] > 0.35]\n",
    "df = df[df['pcd_err'] > 0.1]\n",
    "df = df[['testname', 'r_err', 't_err', 'pcd_err', 'pcc', 'helpful', 'correct_correspondences', 'correspondences', 'correct_inliers', 'overlapping']].sort_values('pcc')\n",
    "display_colored(df.sort_values('pcd_err'))"
   ]
  }
 ],
 "metadata": {
  "kernelspec": {
   "display_name": "Python 3 (ipykernel)",
   "language": "python",
   "name": "python3"
  },
  "language_info": {
   "codemirror_mode": {
    "name": "ipython",
    "version": 3
   },
   "file_extension": ".py",
   "mimetype": "text/x-python",
   "name": "python",
   "nbconvert_exporter": "python",
   "pygments_lexer": "ipython3",
   "version": "3.9.9"
  }
 },
 "nbformat": 4,
 "nbformat_minor": 5
}
